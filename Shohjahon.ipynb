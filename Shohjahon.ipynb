{
  "nbformat": 4,
  "nbformat_minor": 0,
  "metadata": {
    "colab": {
      "provenance": [],
      "authorship_tag": "ABX9TyNdu41GtCQYlW037ctNWdqN",
      "include_colab_link": true
    },
    "kernelspec": {
      "name": "python3",
      "display_name": "Python 3"
    },
    "language_info": {
      "name": "python"
    }
  },
  "cells": [
    {
      "cell_type": "markdown",
      "metadata": {
        "id": "view-in-github",
        "colab_type": "text"
      },
      "source": [
        "<a href=\"https://colab.research.google.com/github/ShohjahonbekInomjonov/loyiha1/blob/main/Shohjahon.ipynb\" target=\"_parent\"><img src=\"https://colab.research.google.com/assets/colab-badge.svg\" alt=\"Open In Colab\"/></a>"
      ]
    },
    {
      "cell_type": "code",
      "execution_count": 1,
      "metadata": {
        "colab": {
          "base_uri": "https://localhost:8080/"
        },
        "id": "g3A7SciLE_R0",
        "outputId": "0c20e72c-b26b-4c18-e76a-ca6adf227e71"
      },
      "outputs": [
        {
          "output_type": "stream",
          "name": "stdout",
          "text": [
            "1D Massiv :  [1 2 3 4 5]\n",
            "2D Massiv :\n",
            " [1 2 3 4 5 6]\n",
            "Massivlar yig'indisi:   15\n",
            "O'rtacha :  3.0\n",
            "Ko'paytma :  120\n"
          ]
        }
      ],
      "source": [
        "import numpy as np\n",
        "#1.massiv yaratish\n",
        "array_1d = np.array([1,2,3,4,5])\n",
        "array_2d = np.array([1,2,3,4,5,6])\n",
        "\n",
        "#2.matematik operatsiyalar\n",
        "sum_array = np.sum(array_1d)\n",
        "mean_array = np.mean(array_1d)\n",
        "product_array = np.prod(array_1d)\n",
        "\n",
        "\n",
        "print(\"1D Massiv : \", array_1d)\n",
        "print(\"2D Massiv :\\n\", array_2d)\n",
        "print(\"Massivlar yig'indisi:  \", sum_array)\n",
        "print(\"O'rtacha : \", mean_array)\n",
        "print(\"Ko'paytma : \", product_array)"
      ]
    }
  ]
}